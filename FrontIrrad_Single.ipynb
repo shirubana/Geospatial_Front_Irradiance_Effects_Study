{
 "cells": [
  {
   "cell_type": "code",
   "execution_count": 3,
   "id": "928b0145",
   "metadata": {},
   "outputs": [],
   "source": [
    "import pvlib\n",
    "import numpy as np\n",
    "import pandas as pd\n",
    "import os\n"
   ]
  },
  {
   "cell_type": "code",
   "execution_count": 4,
   "id": "87cb6deb-22ed-427a-ba96-1c03179f8f24",
   "metadata": {},
   "outputs": [],
   "source": [
    "NREL_API_KEY = None  # <-- please set your NREL API key here\n",
    "\n",
    "# note you must use \"quotes\" around your key, for example:\n",
    "# NREL_API_KEY = 'DEMO_KEY'  # single or double both work fine\n",
    "\n",
    "# during the live tutorial, we've stored a dedicated key on our server\n",
    "if NREL_API_KEY is None:\n",
    "    try:\n",
    "        NREL_API_KEY = os.environ['NREL_API_KEY']  # get dedicated key for tutorial from servier\n",
    "    except KeyError:\n",
    "        NREL_API_KEY = 'DEMO_KEY'  # OK for this demo, but better to get your own key"
   ]
  },
  {
   "cell_type": "code",
   "execution_count": 7,
   "id": "ad456498-6efe-4694-bda6-3a31bfe573fa",
   "metadata": {},
   "outputs": [
    {
     "data": {
      "text/plain": [
       "{'Source': 'NSRDB',\n",
       " 'Location ID': '1493238',\n",
       " 'City': '-',\n",
       " 'State': '-',\n",
       " 'Country': '-',\n",
       " 'Time Zone': -4,\n",
       " 'Local Time Zone': -4,\n",
       " 'Clearsky DHI Units': 'w/m2',\n",
       " 'Clearsky DNI Units': 'w/m2',\n",
       " 'Clearsky GHI Units': 'w/m2',\n",
       " 'Dew Point Units': 'c',\n",
       " 'DHI Units': 'w/m2',\n",
       " 'DNI Units': 'w/m2',\n",
       " 'GHI Units': 'w/m2',\n",
       " 'Solar Zenith Angle Units': 'Degree',\n",
       " 'Temperature Units': 'c',\n",
       " 'Pressure Units': 'mbar',\n",
       " 'Relative Humidity Units': '%',\n",
       " 'Precipitable Water Units': 'cm',\n",
       " 'Wind Direction Units': 'Degrees',\n",
       " 'Wind Speed Units': 'm/s',\n",
       " 'Cloud Type -15': 'N/A',\n",
       " 'Cloud Type 0': 'Clear',\n",
       " 'Cloud Type 1': 'Probably Clear',\n",
       " 'Cloud Type 2': 'Fog',\n",
       " 'Cloud Type 3': 'Water',\n",
       " 'Cloud Type 4': 'Super-Cooled Water',\n",
       " 'Cloud Type 5': 'Mixed',\n",
       " 'Cloud Type 6': 'Opaque Ice',\n",
       " 'Cloud Type 7': 'Cirrus',\n",
       " 'Cloud Type 8': 'Overlapping',\n",
       " 'Cloud Type 9': 'Overshooting',\n",
       " 'Cloud Type 10': 'Unknown',\n",
       " 'Cloud Type 11': 'Dust',\n",
       " 'Cloud Type 12': 'Smoke',\n",
       " 'Fill Flag 0': 'N/A',\n",
       " 'Fill Flag 1': 'Missing Image',\n",
       " 'Fill Flag 2': 'Low Irradiance',\n",
       " 'Fill Flag 3': 'Exceeds Clearsky',\n",
       " 'Fill Flag 4': 'Missing CLoud Properties',\n",
       " 'Fill Flag 5': 'Rayleigh Violation',\n",
       " 'Surface Albedo Units': 'N/A',\n",
       " 'Version': 'v3.2.2',\n",
       " 'latitude': 18.45,\n",
       " 'longitude': -66.1,\n",
       " 'altitude': 3}"
      ]
     },
     "execution_count": 7,
     "metadata": {},
     "output_type": "execute_result"
    }
   ],
   "source": [
    "weather_df, meta = pvlib.iotools.get_psm3(\n",
    "    latitude=18.4671, longitude=-66.1185,\n",
    "    api_key=NREL_API_KEY,\n",
    "    email='silvana.ovaitt@nrel.com',  # <-- any email works here fine\n",
    "    names='2021',\n",
    "    map_variables=True,\n",
    "    leap_day=False)\n",
    "meta"
   ]
  },
  {
   "cell_type": "code",
   "execution_count": 8,
   "id": "86f28997-77f0-4920-80b7-05fd103c8724",
   "metadata": {},
   "outputs": [],
   "source": [
    "time_index = weather_df.index\n",
    "\n",
    "site_loc = pvlib.location.Location(meta[\"latitude\"], meta[\"longitude\"])\n",
    "dni_clear = site_loc.get_clearsky(time_index)[\"dni\"]\n",
    "\n"
   ]
  },
  {
   "cell_type": "code",
   "execution_count": 17,
   "id": "28d31213-cb13-47e5-9c1c-8172be19883a",
   "metadata": {},
   "outputs": [
    {
     "data": {
      "text/plain": [
       "831.6797870283757"
      ]
     },
     "execution_count": 17,
     "metadata": {},
     "output_type": "execute_result"
    }
   ],
   "source": [
    "dni_clear.iloc[205]"
   ]
  },
  {
   "cell_type": "code",
   "execution_count": 16,
   "id": "7bf38275-4545-40aa-9747-818ddbd4a71c",
   "metadata": {},
   "outputs": [
    {
     "data": {
      "text/plain": [
       "Timestamp('2021-01-09 13:30:00-0400', tz='Etc/GMT+4')"
      ]
     },
     "execution_count": 16,
     "metadata": {},
     "output_type": "execute_result"
    }
   ],
   "source": [
    "dni_clear.index[205]"
   ]
  }
 ],
 "metadata": {
  "kernelspec": {
   "display_name": "Python 3 (ipykernel)",
   "language": "python",
   "name": "python3"
  },
  "language_info": {
   "codemirror_mode": {
    "name": "ipython",
    "version": 3
   },
   "file_extension": ".py",
   "mimetype": "text/x-python",
   "name": "python",
   "nbconvert_exporter": "python",
   "pygments_lexer": "ipython3",
   "version": "3.12.7"
  }
 },
 "nbformat": 4,
 "nbformat_minor": 5
}
